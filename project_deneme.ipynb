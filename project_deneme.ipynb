{
 "cells": [
  {
   "cell_type": "code",
   "execution_count": null,
   "metadata": {},
   "outputs": [],
   "source": [
    "# def is_inside(points, xp, yp):\n",
    "#     count = 0\n",
    "#     for i in range(len(points)-1):\n",
    "#         (x1,y1) = points[i]\n",
    "#         (x2,y2) = points[i+1]\n",
    "#         if (yp < y1) != (yp < y2) and xp <= x1 + ((abs(yp - y1)) / (abs(y2 - y1))) * abs((x2 - x1)):\n",
    "#             count += 1\n",
    "        \n",
    "#     return count%2 == 1\n",
    "\n",
    "\n",
    "\n",
    "# print(is_inside(list_16, -90.336391957238, 38.842058434510484))\n",
    "    "
   ]
  }
 ],
 "metadata": {
  "language_info": {
   "name": "python"
  }
 },
 "nbformat": 4,
 "nbformat_minor": 2
}
