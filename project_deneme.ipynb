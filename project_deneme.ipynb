{
 "cells": [
  {
   "cell_type": "code",
   "execution_count": null,
   "metadata": {},
   "outputs": [],
   "source": [
    "# def is_inside(points, xp, yp):\n",
    "#     count = 0\n",
    "#     for i in range(len(points)-1):\n",
    "#         (x1,y1) = points[i]\n",
    "#         (x2,y2) = points[i+1]\n",
    "#         if (yp < y1) != (yp < y2) and xp <= x1 + ((abs(yp - y1)) / (abs(y2 - y1))) * abs((x2 - x1)):\n",
    "#             count += 1\n",
    "        \n",
    "#     return count%2 == 1\n",
    "\n",
    "\n",
    "\n",
    "# print(is_inside(list_16, -90.336391957238, 38.842058434510484))\n",
    "    "
   ]
  },
  {
   "cell_type": "code",
   "execution_count": null,
   "metadata": {},
   "outputs": [],
   "source": [
    "# def onclick(event):\n",
    "#     xp, yp = event.xdata, event.ydata\n",
    "#     if is_inside(list_16, xp, yp):\n",
    "#         print(f\"inside point({xp}, {yp})\")\n",
    "#         plt.plot(xp, yp, \"go\", markersize=5)\n",
    "#     else:\n",
    "#         print(\"outside point({xp}, {yp})\")\n",
    "#         plt.plot(xp, yp, \"ro\", markersize=5)\n",
    "#     plt.gcf().canvas.draw()\n",
    "\n",
    "# plt.figure(figsize=(10,10))\n",
    "# plt.gca().set_aspect(\"equal\")\n",
    "# xs, ys = zip(*list_16)\n",
    "# plt.gcf().canvas.mpl_connect(\"button_press_event\", onclick)\n",
    "# plt.plot(xs, ys, \"b-\", linewidth=0.8)\n",
    "# plt.show()"
   ]
  }
 ],
 "metadata": {
  "language_info": {
   "name": "python"
  }
 },
 "nbformat": 4,
 "nbformat_minor": 2
}
